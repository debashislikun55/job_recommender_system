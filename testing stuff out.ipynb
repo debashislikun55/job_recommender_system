{
 "cells": [
  {
   "cell_type": "code",
   "execution_count": 1,
   "metadata": {},
   "outputs": [],
   "source": [
    "import pandas as pd\n",
    "import numpy as np\n",
    "import process_data as pda\n",
    "import matplotlib.pyplot as plt\n",
    "from sklearn.decomposition import PCA\n",
    "from itertools import cycle\n",
    "import pickle\n",
    "import re\n",
    "\n",
    "#topic_df, model, vec, topic_list = pda.process_data()\n",
    "\n",
    "#print(topic_list)\n",
    "#topic_df.to_pickle('topic_df.pkl')\n",
    "\n",
    "def create_clusters():\n",
    "    #topic_df, model, vec, topic_list = pda.process_data()\n",
    "    pca = PCA(n_components=2)\n",
    "    topic_df = pd.read_csv('topic_df.csv')\n",
    "    \n",
    "    #topic_df = pd.read_pickle('topic_df.pkl')\n",
    "    X_train = topic_df.iloc[:, 1:-1]\n",
    "    print(X_train.head())\n",
    "    y_train = topic_df.iloc[:, -1]\n",
    "    y_vals = y_train.unique()\n",
    "    model = pca.fit(X_train)\n",
    "\n",
    "    return X_train, model.transform(X_train), y_train, y_vals, model\n",
    "\n",
    "\n",
    "\n",
    "def plot_PCA_2D(data, target, target_names, user_data):\n",
    "    colors = cycle(['black','g','b','c','m','y','orange','w','aqua','yellow'])\n",
    "    target_ids = range(len(target_names))\n",
    "    plt.figure(figsize=(10,10))\n",
    "    for i, c, label in zip(target_ids, colors, target_names):\n",
    "        plt.scatter(data[target == i, 0], data[target == i, 1],\n",
    "                   c=c, label=label, edgecolors='gray')\n",
    "    plt.scatter(user_data[0][0], user_data[0][1], s = 150, color = 'red')\n",
    "    plt.title('Job Clusters (You are the Red Dot)')\n",
    "    plt.xlabel('Marketing Design Words')\n",
    "    plt.ylabel('Project Management Words')\n",
    "    plt.legend()\n",
    "\n",
    "def transform_user_resume(pca_model, resume):\n",
    "    '''\n",
    "    take in resume and fit it according to both count vectorizer and PCA model\n",
    "    '''\n",
    "    #jobs_df, topic_model, vec, topic_list = pda.process_data()\n",
    "    vec = pickle.load(open('job_vec.sav', 'rb'))\n",
    "    topic_model = pickle.load(open('topic_model.sav', 'rb'))\n",
    "\n",
    "    doc = pda.tokenize_stem(resume)\n",
    "    doc = vec.transform(doc)\n",
    "    doc = topic_model.transform(doc)\n",
    "    doc = pd.DataFrame(doc)\n",
    "#     X_train = doc.iloc[:, :-1]\n",
    "#     y_train = doc.iloc[:, -1]\n",
    "#     y_vals = y_train.unique()\n",
    "    print(doc.shape)\n",
    "    doc = pca_model.transform(doc)\n",
    "\n",
    "    return doc"
   ]
  },
  {
   "cell_type": "code",
   "execution_count": 2,
   "metadata": {},
   "outputs": [
    {
     "name": "stdout",
     "output_type": "stream",
     "text": [
      "    Topic 1   Topic 2   Topic 3   Topic 4   Topic 5   Topic 6   Topic 7  \\\n",
      "0  0.334081  0.256165  0.128289 -0.020156  0.051135 -0.001095 -0.011329   \n",
      "1  0.256132  0.240689  0.155746 -0.023823  0.022769 -0.022446  0.079418   \n",
      "2  0.405972  0.189605  0.253833  0.018843 -0.095841  0.016953 -0.171949   \n",
      "3  0.331660  0.377204  0.396636  0.075567  0.052115  0.027908 -0.116245   \n",
      "4  0.320982  0.270381  0.314621 -0.043633  0.027806 -0.049011  0.074102   \n",
      "\n",
      "    Topic 8   Topic 9  Topic 10  Topic 11  Topic 12  Topic 13  Topic 14  \\\n",
      "0  0.004210  0.054033  0.120177 -0.005530  0.030128 -0.117330 -0.006054   \n",
      "1 -0.066568 -0.000182  0.032577  0.005448 -0.008952  0.009656 -0.055370   \n",
      "2 -0.085150 -0.074272  0.056526 -0.034201  0.013504 -0.070669  0.002390   \n",
      "3  0.058782 -0.038114 -0.053620  0.076924  0.024760 -0.053350  0.036675   \n",
      "4 -0.098051  0.043916  0.125921  0.186366 -0.101593  0.024025 -0.087278   \n",
      "\n",
      "   Topic 15  Topic 16  Topic 17  Topic 18  Topic 19  Topic 20  \n",
      "0  0.020683  0.047878 -0.006305  0.002394 -0.009785  0.014574  \n",
      "1  0.015596 -0.037013  0.023294  0.042991  0.021220  0.031176  \n",
      "2  0.038747  0.056274 -0.028698 -0.035390 -0.035933  0.008264  \n",
      "3 -0.014678 -0.043004 -0.006039 -0.082544  0.007250  0.028635  \n",
      "4 -0.210207 -0.334035 -0.073219  0.461494 -0.049215 -0.075894  \n"
     ]
    }
   ],
   "source": [
    "X_train, pca_train, y_train, y_vals, pca_model = create_clusters()"
   ]
  },
  {
   "cell_type": "code",
   "execution_count": 3,
   "metadata": {},
   "outputs": [
    {
     "ename": "UnpicklingError",
     "evalue": "invalid load key, '\\xe2'.",
     "output_type": "error",
     "traceback": [
      "\u001b[1;31m---------------------------------------------------------------------------\u001b[0m",
      "\u001b[1;31mUnpicklingError\u001b[0m                           Traceback (most recent call last)",
      "Input \u001b[1;32mIn [3]\u001b[0m, in \u001b[0;36m<cell line: 6>\u001b[1;34m()\u001b[0m\n\u001b[0;32m      3\u001b[0m user_input \u001b[38;5;241m=\u001b[39m user_input\u001b[38;5;241m.\u001b[39mlower()\n\u001b[0;32m      5\u001b[0m user_input \u001b[38;5;241m=\u001b[39m pd\u001b[38;5;241m.\u001b[39mSeries(user_input)\n\u001b[1;32m----> 6\u001b[0m \u001b[43mtransform_user_resume\u001b[49m\u001b[43m(\u001b[49m\u001b[43mpca_model\u001b[49m\u001b[43m,\u001b[49m\u001b[43m \u001b[49m\u001b[43muser_input\u001b[49m\u001b[43m)\u001b[49m\n",
      "Input \u001b[1;32mIn [1]\u001b[0m, in \u001b[0;36mtransform_user_resume\u001b[1;34m(pca_model, resume)\u001b[0m\n\u001b[0;32m     45\u001b[0m \u001b[38;5;250m\u001b[39m\u001b[38;5;124;03m'''\u001b[39;00m\n\u001b[0;32m     46\u001b[0m \u001b[38;5;124;03mtake in resume and fit it according to both count vectorizer and PCA model\u001b[39;00m\n\u001b[0;32m     47\u001b[0m \u001b[38;5;124;03m'''\u001b[39;00m\n\u001b[0;32m     48\u001b[0m \u001b[38;5;66;03m#jobs_df, topic_model, vec, topic_list = pda.process_data()\u001b[39;00m\n\u001b[1;32m---> 49\u001b[0m vec \u001b[38;5;241m=\u001b[39m \u001b[43mpickle\u001b[49m\u001b[38;5;241;43m.\u001b[39;49m\u001b[43mload\u001b[49m\u001b[43m(\u001b[49m\u001b[38;5;28;43mopen\u001b[39;49m\u001b[43m(\u001b[49m\u001b[38;5;124;43m'\u001b[39;49m\u001b[38;5;124;43mjob_vec.sav\u001b[39;49m\u001b[38;5;124;43m'\u001b[39;49m\u001b[43m,\u001b[49m\u001b[43m \u001b[49m\u001b[38;5;124;43m'\u001b[39;49m\u001b[38;5;124;43mrb\u001b[39;49m\u001b[38;5;124;43m'\u001b[39;49m\u001b[43m)\u001b[49m\u001b[43m)\u001b[49m\n\u001b[0;32m     50\u001b[0m topic_model \u001b[38;5;241m=\u001b[39m pickle\u001b[38;5;241m.\u001b[39mload(\u001b[38;5;28mopen\u001b[39m(\u001b[38;5;124m'\u001b[39m\u001b[38;5;124mtopic_model.sav\u001b[39m\u001b[38;5;124m'\u001b[39m, \u001b[38;5;124m'\u001b[39m\u001b[38;5;124mrb\u001b[39m\u001b[38;5;124m'\u001b[39m))\n\u001b[0;32m     52\u001b[0m doc \u001b[38;5;241m=\u001b[39m pda\u001b[38;5;241m.\u001b[39mtokenize_stem(resume)\n",
      "\u001b[1;31mUnpicklingError\u001b[0m: invalid load key, '\\xe2'."
     ]
    }
   ],
   "source": [
    "resume = \"hi i'm preston and this is my resume\"\n",
    "user_input = re.sub('[^a-zA-Z0-9\\.]', ' ', resume)\n",
    "user_input = user_input.lower()\n",
    "\n",
    "user_input = pd.Series(user_input)\n",
    "transform_user_resume(pca_model, user_input)"
   ]
  },
  {
   "cell_type": "raw",
   "metadata": {},
   "source": []
  },
  {
   "cell_type": "code",
   "execution_count": null,
   "metadata": {},
   "outputs": [],
   "source": []
  }
 ],
 "metadata": {
  "kernelspec": {
   "display_name": "Python 3 (ipykernel)",
   "language": "python",
   "name": "python3"
  },
  "language_info": {
   "codemirror_mode": {
    "name": "ipython",
    "version": 3
   },
   "file_extension": ".py",
   "mimetype": "text/x-python",
   "name": "python",
   "nbconvert_exporter": "python",
   "pygments_lexer": "ipython3",
   "version": "3.9.12"
  }
 },
 "nbformat": 4,
 "nbformat_minor": 4
}
