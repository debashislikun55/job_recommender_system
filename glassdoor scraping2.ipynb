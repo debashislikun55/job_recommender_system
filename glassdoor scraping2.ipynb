{
 "cells": [
  {
   "cell_type": "code",
   "execution_count": 1,
   "id": "9ca0a4b2",
   "metadata": {},
   "outputs": [],
   "source": [
    "from selenium.common.exceptions import NoSuchElementException, ElementClickInterceptedException\n",
    "from selenium import webdriver\n",
    "import time\n",
    "import pandas as pd\n",
    "import numpy as np"
   ]
  },
  {
   "cell_type": "code",
   "execution_count": 2,
   "id": "bfdd33d9",
   "metadata": {},
   "outputs": [
    {
     "data": {
      "text/plain": [
       "4"
      ]
     },
     "execution_count": 2,
     "metadata": {},
     "output_type": "execute_result"
    }
   ],
   "source": [
    "sleep_time = np.random.randint(1,10)\n",
    "sleep_time"
   ]
  },
  {
   "cell_type": "code",
   "execution_count": 3,
   "id": "3697832c",
   "metadata": {},
   "outputs": [],
   "source": [
    "import warnings\n",
    "warnings.filterwarnings('ignore')"
   ]
  },
  {
   "cell_type": "code",
   "execution_count": 4,
   "id": "647d0d8d",
   "metadata": {},
   "outputs": [],
   "source": [
    "def get_jobs(keyword, num_jobs, verbose):\n",
    "    \n",
    "    '''Gathers jobs as a dataframe, scraped from Glassdoor'''\n",
    "    \n",
    "    #Initializing the webdriver\n",
    "    options = webdriver.ChromeOptions()\n",
    "    \n",
    "    #Uncomment the line below if you'd like to scrape without a new Chrome window every time.\n",
    "    #options.add_argument('headless')\n",
    "    \n",
    "    #Change the path to where chromedriver is in your home folder.\n",
    "    driver = webdriver.Chrome(executable_path=\"/Applications/chromedriver\", options=options)\n",
    "    driver.set_window_size(1120, 1000)\n",
    "    #url = 'https://www.glassdoor.com/Job/jobs.htm?suggestCount=0&suggestChosen=false&clickSource=searchBtn&typedKeyword=%22'+keyword + '%22&sc.keyword=%22data+analyst%22&locT=C&locId=1147401&jobType='\n",
    "    url = 'https://www.glassdoor.com/Job/jobs.htm?sc.keyword={}&locT=C&locId=1147401&locKeyword=San%20Francisco,%20CA&jobType=all&fromAge=-1&minSalary=60000&includeNoSalaryJobs=true&radius=100&cityId=-1&minRating=0.0&industryId=-1&sgocId=-1&seniorityType=all&companyId=-1&employerSizes=0&applicationType=0&remoteWorkType=0'.format(keyword)\n",
    "    print(url)\n",
    "    driver.get(url)\n",
    "    jobs = []\n",
    "\n",
    "    while len(jobs) < num_jobs:  #If true, should be still looking for new jobs.\n",
    "\n",
    "        #Let the page load. Change this number based on your internet speed.\n",
    "        #Or, wait until the webpage is loaded, instead of hardcoding it.\n",
    "        print(jobs)\n",
    "        time.sleep(11)\n",
    "\n",
    "        #Test for the \"Sign Up\" prompt and get rid of it.\n",
    "        try:\n",
    "            driver.find_element_by_class_name(\"selected\").click()\n",
    "        except ElementClickInterceptedException:\n",
    "            pass\n",
    "\n",
    "        time.sleep(.1)\n",
    "\n",
    "        try:\n",
    "            driver.find_element_by_css_selector('[alt = \"Close\"]').click()\n",
    "            \n",
    "        except NoSuchElementException:\n",
    "            pass\n",
    "        \n",
    "        \n",
    "        #/html/body/header/nav[1]/div/div/div/div[4]/div[3]/form/div/button\n",
    "\n",
    "        try:\n",
    "            #driver.find_element_by_name('search')\n",
    "            #driver.find_elemnt_by_css_selector(\"button\")\n",
    "            x_path = '//*[@id=\"scBar\"]/div/button/span'\n",
    "            driver.find_element_by_xpath(x_path).click()\n",
    "\n",
    "            #//*[@id=\"scBar\"]/div/button/span\n",
    "            #<button class=\"gd-ui-button ml-std col-auto css-iixdfr\" type=\"submit\" data-test=\"search-bar-submit\"><span>Search</span></button>\n",
    "            #//*[@id=\"scBar\"]/div/button\n",
    "            print('hit search button')\n",
    "        except:\n",
    "            print('could not hit search button')\n",
    "            pass\n",
    "        \n",
    "        #<a class=\"login-btn\" href=\"javascript:;\" data-bind=\"click:loginSection.loginClick\">\n",
    "   # <span class=\"btn-text\">Login</span>\n",
    "#</a>\n",
    "        #driver.find_element_by_css_selector(\"a.login-btn > span.btn-text\").click()\n",
    "        \n",
    "        \n",
    "        \n",
    "        #Going through each job in this page\n",
    "        job_buttons = driver.find_elements_by_class_name(\"jl\")  #jl for Job Listing. These are the buttons we're going to click.\n",
    "        for job_button in job_buttons:  \n",
    "\n",
    "            print(\"Progress: {}\".format(\"\" + str(len(jobs)) + \"/\" + str(num_jobs)))\n",
    "            \n",
    "            sleep_time = np.random.randint(1,10)\n",
    "            time.sleep(sleep_time)\n",
    "            if len(jobs) >= num_jobs:\n",
    "                break\n",
    "            try:\n",
    "                job_button.click()#You might \n",
    "            except:\n",
    "                continue\n",
    "                \n",
    "            \n",
    "            time.sleep(1)\n",
    "            collected_successfully = False\n",
    "\n",
    "            while not collected_successfully:\n",
    "                try:\n",
    "                    company_name = driver.find_element_by_xpath('.//div[@class=\"employerName\"]').text\n",
    "                    location = driver.find_element_by_xpath('.//div[@class=\"location\"]').text\n",
    "                    job_title = driver.find_element_by_xpath('.//div[contains(@class, \"title\")]').text\n",
    "                    job_description = driver.find_element_by_xpath('.//div[@class=\"jobDescriptionContent desc\"]').text\n",
    "                    collected_successfully = True\n",
    "                except:\n",
    "                    time.sleep(5)\n",
    "\n",
    "            try:\n",
    "                salary_estimate = driver.find_element_by_xpath('.//span[@class=\"gray salary\"]').text\n",
    "                \n",
    "            except NoSuchElementException:\n",
    "                salary_estimate = -1 #You need to set a \"not found value. It's important.\"\n",
    "            \n",
    "            try:\n",
    "                rating = driver.find_element_by_xpath('.//span[@class=\"rating\"]').text\n",
    "            except NoSuchElementException:\n",
    "                rating = -1 #You need to set a \"not found value. It's important.\"\n",
    "\n",
    "            #Printing for debugging\n",
    "            if verbose:\n",
    "                print(\"Job Title: {}\".format(job_title))\n",
    "                print(\"Salary Estimate: {}\".format(salary_estimate))\n",
    "                print(\"Job Description: {}\".format(job_description[:500]))\n",
    "                print(\"Rating: {}\".format(rating))\n",
    "                print(\"Company Name: {}\".format(company_name))\n",
    "                print(\"Location: {}\".format(location))\n",
    "\n",
    "            #Going to the Company tab...\n",
    "            #clicking on this:\n",
    "            #<div class=\"tab\" data-tab-type=\"overview\"><span>Company</span></div>\n",
    "            try:\n",
    "                driver.find_element_by_xpath('.//div[@class=\"tab\" and @data-tab-type=\"overview\"]').click()\n",
    "\n",
    "                try:\n",
    "                    #<div class=\"infoEntity\">\n",
    "                    #    <label>Headquarters</label>\n",
    "                    #    <span class=\"value\">San Francisco, CA</span>\n",
    "                    #</div>\n",
    "                    headquarters = driver.find_element_by_xpath('.//div[@class=\"infoEntity\"]//label[text()=\"Headquarters\"]//following-sibling::*').text\n",
    "                except NoSuchElementException:\n",
    "                    headquarters = -1\n",
    "\n",
    "                try:\n",
    "                    size = driver.find_element_by_xpath('.//div[@class=\"infoEntity\"]//label[text()=\"Size\"]//following-sibling::*').text\n",
    "                except NoSuchElementException:\n",
    "                    size = -1\n",
    "\n",
    "                try:\n",
    "                    founded = driver.find_element_by_xpath('.//div[@class=\"infoEntity\"]//label[text()=\"Founded\"]//following-sibling::*').text\n",
    "                except NoSuchElementException:\n",
    "                    founded = -1\n",
    "\n",
    "                try:\n",
    "                    type_of_ownership = driver.find_element_by_xpath('.//div[@class=\"infoEntity\"]//label[text()=\"Type\"]//following-sibling::*').text\n",
    "                except NoSuchElementException:\n",
    "                    type_of_ownership = -1\n",
    "\n",
    "                try:\n",
    "                    industry = driver.find_element_by_xpath('.//div[@class=\"infoEntity\"]//label[text()=\"Industry\"]//following-sibling::*').text\n",
    "                except NoSuchElementException:\n",
    "                    industry = -1\n",
    "\n",
    "                try:\n",
    "                    sector = driver.find_element_by_xpath('.//div[@class=\"infoEntity\"]//label[text()=\"Sector\"]//following-sibling::*').text\n",
    "                except NoSuchElementException:\n",
    "                    sector = -1\n",
    "\n",
    "                try:\n",
    "                    revenue = driver.find_element_by_xpath('.//div[@class=\"infoEntity\"]//label[text()=\"Revenue\"]//following-sibling::*').text\n",
    "                except NoSuchElementException:\n",
    "                    revenue = -1\n",
    "\n",
    "                try:\n",
    "                    competitors = driver.find_element_by_xpath('.//div[@class=\"infoEntity\"]//label[text()=\"Competitors\"]//following-sibling::*').text\n",
    "                except NoSuchElementException:\n",
    "                    competitors = -1\n",
    "\n",
    "            except:  #Rarely, some job postings do not have the \"Company\" tab.\n",
    "                headquarters = -1\n",
    "                size = -1\n",
    "                founded = -1\n",
    "                type_of_ownership = -1\n",
    "                industry = -1\n",
    "                sector = -1\n",
    "                revenue = -1\n",
    "                competitors = -1\n",
    "\n",
    "                \n",
    "            #if verbose:\n",
    "            print(\"job Title: {}\".format(job_title))\n",
    "#             print(\"Headquarters: {}\".format(headquarters))\n",
    "#             print(\"Size: {}\".format(size))\n",
    "#             print(\"Founded: {}\".format(founded))\n",
    "#             print(\"Type of Ownership: {}\".format(type_of_ownership))\n",
    "#             print(\"Industry: {}\".format(industry))\n",
    "#             print(\"Sector: {}\".format(sector))\n",
    "#             print(\"Revenue: {}\".format(revenue))\n",
    "#             print(\"Competitors: {}\".format(competitors))\n",
    "#             print(\"@@@@@@@@@@@@@@@@@@@@@@@@@@@@@@@@@@@@@@@@@@@@@@@@@@@@\")\n",
    "\n",
    "            jobs.append({\"Job Title\" : job_title,\n",
    "            \"Salary Estimate\" : salary_estimate,\n",
    "            \"Job Description\" : job_description,\n",
    "            \"Rating\" : rating,\n",
    "            \"Company Name\" : company_name,\n",
    "            \"Location\" : location,\n",
    "            \"Headquarters\" : headquarters,\n",
    "            \"Size\" : size,\n",
    "            \"Founded\" : founded,\n",
    "            \"Type of ownership\" : type_of_ownership,\n",
    "            \"Industry\" : industry,\n",
    "            \"Sector\" : sector,\n",
    "            \"Revenue\" : revenue,\n",
    "            \"Competitors\" : competitors})\n",
    "            \n",
    "            #add job to jobs\n",
    "\n",
    "        #Clicking on the \"next page\" button\n",
    "        try:\n",
    "            driver.find_element_by_xpath('.//li[@class=\"next\"]//a').click()\n",
    "        except NoSuchElementException:\n",
    "            print(\"Scraping terminated before reaching target number of jobs. Needed {}, got {}.\".format(num_jobs, len(jobs)))\n",
    "            break\n",
    "\n",
    "    return pd.DataFrame(jobs)  #This line converts the dictionary object into a pandas DataFrame."
   ]
  },
  {
   "cell_type": "code",
   "execution_count": 5,
   "id": "94bcc5f9",
   "metadata": {},
   "outputs": [
    {
     "name": "stdout",
     "output_type": "stream",
     "text": [
      "https://www.glassdoor.com/Job/jobs.htm?sc.keyword=data analyst&locT=C&locId=1147401&locKeyword=San%20Francisco,%20CA&jobType=all&fromAge=-1&minSalary=60000&includeNoSalaryJobs=true&radius=100&cityId=-1&minRating=0.0&industryId=-1&sgocId=-1&seniorityType=all&companyId=-1&employerSizes=0&applicationType=0&remoteWorkType=0\n",
      "[]\n"
     ]
    },
    {
     "ename": "AttributeError",
     "evalue": "'WebDriver' object has no attribute 'find_element_by_class_name'",
     "output_type": "error",
     "traceback": [
      "\u001b[1;31m---------------------------------------------------------------------------\u001b[0m",
      "\u001b[1;31mAttributeError\u001b[0m                            Traceback (most recent call last)",
      "Input \u001b[1;32mIn [5]\u001b[0m, in \u001b[0;36m<cell line: 2>\u001b[1;34m()\u001b[0m\n\u001b[0;32m      1\u001b[0m \u001b[38;5;66;03m#This line will open a new chrome window and start the scraping.\u001b[39;00m\n\u001b[1;32m----> 2\u001b[0m df \u001b[38;5;241m=\u001b[39m \u001b[43mget_jobs\u001b[49m\u001b[43m(\u001b[49m\u001b[38;5;124;43m\"\u001b[39;49m\u001b[38;5;124;43mdata analyst\u001b[39;49m\u001b[38;5;124;43m\"\u001b[39;49m\u001b[43m,\u001b[49m\u001b[43m \u001b[49m\u001b[38;5;241;43m30\u001b[39;49m\u001b[43m,\u001b[49m\u001b[43m \u001b[49m\u001b[38;5;28;43;01mFalse\u001b[39;49;00m\u001b[43m)\u001b[49m\n\u001b[0;32m      3\u001b[0m df2 \u001b[38;5;241m=\u001b[39m get_jobs(\u001b[38;5;124m\"\u001b[39m\u001b[38;5;124mproject manager\u001b[39m\u001b[38;5;124m\"\u001b[39m, \u001b[38;5;241m20\u001b[39m, \u001b[38;5;28;01mFalse\u001b[39;00m)\n\u001b[0;32m      4\u001b[0m df3 \u001b[38;5;241m=\u001b[39m get_jobs(\u001b[38;5;124m\"\u001b[39m\u001b[38;5;124mproduct manager\u001b[39m\u001b[38;5;124m\"\u001b[39m, \u001b[38;5;241m20\u001b[39m, \u001b[38;5;28;01mFalse\u001b[39;00m)\n",
      "Input \u001b[1;32mIn [4]\u001b[0m, in \u001b[0;36mget_jobs\u001b[1;34m(keyword, num_jobs, verbose)\u001b[0m\n\u001b[0;32m     27\u001b[0m \u001b[38;5;66;03m#Test for the \"Sign Up\" prompt and get rid of it.\u001b[39;00m\n\u001b[0;32m     28\u001b[0m \u001b[38;5;28;01mtry\u001b[39;00m:\n\u001b[1;32m---> 29\u001b[0m     \u001b[43mdriver\u001b[49m\u001b[38;5;241;43m.\u001b[39;49m\u001b[43mfind_element_by_class_name\u001b[49m(\u001b[38;5;124m\"\u001b[39m\u001b[38;5;124mselected\u001b[39m\u001b[38;5;124m\"\u001b[39m)\u001b[38;5;241m.\u001b[39mclick()\n\u001b[0;32m     30\u001b[0m \u001b[38;5;28;01mexcept\u001b[39;00m ElementClickInterceptedException:\n\u001b[0;32m     31\u001b[0m     \u001b[38;5;28;01mpass\u001b[39;00m\n",
      "\u001b[1;31mAttributeError\u001b[0m: 'WebDriver' object has no attribute 'find_element_by_class_name'"
     ]
    }
   ],
   "source": [
    "#This line will open a new chrome window and start the scraping.\n",
    "df = get_jobs(\"data analyst\", 30, False)\n",
    "df2 = get_jobs(\"project manager\", 20, False)\n",
    "df3 = get_jobs(\"product manager\", 20, False)\n",
    "df4 = pd.concat([df,df2], ignore_index = True)\n",
    "\n",
    "df4.to_csv(\"jobs_df1.csv\")"
   ]
  },
  {
   "cell_type": "code",
   "execution_count": null,
   "id": "78114516",
   "metadata": {},
   "outputs": [],
   "source": [
    "df.to_csv('data_analyst_scrape.csv')"
   ]
  },
  {
   "cell_type": "code",
   "execution_count": null,
   "id": "39f88661",
   "metadata": {
    "scrolled": false
   },
   "outputs": [],
   "source": [
    "df2 = get_jobs(\"product manager\", 30, False)\n",
    "df2.to_csv('product_manager_scrape.csv')\n",
    "df2"
   ]
  },
  {
   "cell_type": "code",
   "execution_count": null,
   "id": "d606b2d7",
   "metadata": {},
   "outputs": [],
   "source": [
    "df3 = get_jobs(\"project manager\", 45, False)\n",
    "\n",
    "df3.to_csv('project_manager_scrape.csv')"
   ]
  },
  {
   "cell_type": "code",
   "execution_count": null,
   "id": "fc673171",
   "metadata": {},
   "outputs": [],
   "source": [
    " df4 = get_jobs(\"marketing analyst specialist\", 45, False)"
   ]
  },
  {
   "cell_type": "code",
   "execution_count": null,
   "id": "a62273a9",
   "metadata": {},
   "outputs": [],
   "source": [
    " df4.to_csv('marketing_scrape.csv')\n",
    "    df4"
   ]
  },
  {
   "cell_type": "code",
   "execution_count": null,
   "id": "ebf91d04",
   "metadata": {},
   "outputs": [],
   "source": [
    " df4.to_csv('marketing_analyst_scrape.csv')"
   ]
  },
  {
   "cell_type": "code",
   "execution_count": null,
   "id": "ec42e778",
   "metadata": {},
   "outputs": [],
   "source": [
    "df5 = get_jobs(\"account manager\", 45, False)\n",
    "df5.to_csv('account_manager_scrape2.csv')"
   ]
  },
  {
   "cell_type": "code",
   "execution_count": null,
   "id": "bb98fa5c",
   "metadata": {},
   "outputs": [],
   "source": [
    "# df6 = get_jobs(\"ux designer\", 45, False)\n",
    "# df6.to_csv('ux_designer_scrape.csv')"
   ]
  },
  {
   "cell_type": "code",
   "execution_count": null,
   "id": "cc4e1264",
   "metadata": {},
   "outputs": [],
   "source": [
    "#df7 = get_jobs(\"strategy consultant\", 45, False)\n",
    "#df7.to_csv('consulting.csv')"
   ]
  },
  {
   "cell_type": "code",
   "execution_count": 18,
   "id": "ff6f7e19",
   "metadata": {},
   "outputs": [],
   "source": [
    "#df7.to_csv('Scraped_Data/consulting_scrape.csv')"
   ]
  },
  {
   "cell_type": "code",
   "execution_count": null,
   "id": "2b7de921",
   "metadata": {},
   "outputs": [],
   "source": [
    "df8 = get_jobs(\"data scientist\", 45, False)\n",
    "df8.to_csv('Scraped_Data/data_scientist_scrape.csv')"
   ]
  },
  {
   "cell_type": "code",
   "execution_count": null,
   "id": "5c3868cc",
   "metadata": {},
   "outputs": [],
   "source": [
    "x = ['senior', 'data', 'analyst', '1','2']\n",
    "y = ['data', 'analyst']\n",
    "\n",
    "x if y[0] in x else 0"
   ]
  },
  {
   "cell_type": "code",
   "execution_count": null,
   "id": "85ade2b0",
   "metadata": {},
   "outputs": [],
   "source": [
    "def check_keywords(keywords, string_list):\n",
    "    keyword_list = list(keywords.split(','))\n",
    "    check = True\n",
    "    for word in keyword_list:\n",
    "        if word not in string_list:\n",
    "            print(word)\n",
    "            check = False\n",
    "    return check, keyword_list, string_list\n",
    "\n",
    "check_keywords('data,analyst', x)"
   ]
  },
  {
   "cell_type": "code",
   "execution_count": null,
   "id": "3c17ce77",
   "metadata": {},
   "outputs": [],
   "source": []
  }
 ],
 "metadata": {
  "kernelspec": {
   "display_name": "Python 3 (ipykernel)",
   "language": "python",
   "name": "python3"
  },
  "language_info": {
   "codemirror_mode": {
    "name": "ipython",
    "version": 3
   },
   "file_extension": ".py",
   "mimetype": "text/x-python",
   "name": "python",
   "nbconvert_exporter": "python",
   "pygments_lexer": "ipython3",
   "version": "3.9.12"
  }
 },
 "nbformat": 4,
 "nbformat_minor": 5
}
